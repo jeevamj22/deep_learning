{
  "nbformat": 4,
  "nbformat_minor": 0,
  "metadata": {
    "colab": {
      "provenance": [],
      "gpuType": "T4"
    },
    "kernelspec": {
      "name": "python3",
      "display_name": "Python 3"
    },
    "language_info": {
      "name": "python"
    },
    "accelerator": "GPU",
    "gpuClass": "standard"
  },
  "cells": [
    {
      "cell_type": "code",
      "execution_count": 16,
      "metadata": {
        "id": "rNwPX4_H2VOc"
      },
      "outputs": [],
      "source": [
        "from tensorflow.keras.models import Sequential\n",
        "from tensorflow.keras.layers import Dense"
      ]
    },
    {
      "cell_type": "code",
      "source": [
        "from sklearn.preprocessing import StandardScaler,OneHotEncoder\n",
        "from sklearn.model_selection import train_test_split"
      ],
      "metadata": {
        "id": "Z5miKCsp2iGn"
      },
      "execution_count": 17,
      "outputs": []
    },
    {
      "cell_type": "code",
      "source": [
        "import numpy as np\n",
        "import pandas as pd\n"
      ],
      "metadata": {
        "id": "W9zbjjxk2WfE"
      },
      "execution_count": 18,
      "outputs": []
    },
    {
      "cell_type": "code",
      "source": [
        "data=pd.read_csv(\"/content/mobile_data_train.csv\")"
      ],
      "metadata": {
        "id": "afMFqoYe3NIg"
      },
      "execution_count": 19,
      "outputs": []
    },
    {
      "cell_type": "code",
      "source": [
        "data.describe()"
      ],
      "metadata": {
        "id": "LCEWq6733X-q",
        "outputId": "778cd477-9bbc-414b-edb2-e0372de2f8bc",
        "colab": {
          "base_uri": "https://localhost:8080/",
          "height": 394
        }
      },
      "execution_count": 20,
      "outputs": [
        {
          "output_type": "execute_result",
          "data": {
            "text/plain": [
              "       battery_power       blue  clock_speed     dual_sim           fc  \\\n",
              "count    2000.000000  2000.0000  2000.000000  2000.000000  2000.000000   \n",
              "mean     1238.518500     0.4950     1.522250     0.509500     4.309500   \n",
              "std       439.418206     0.5001     0.816004     0.500035     4.341444   \n",
              "min       501.000000     0.0000     0.500000     0.000000     0.000000   \n",
              "25%       851.750000     0.0000     0.700000     0.000000     1.000000   \n",
              "50%      1226.000000     0.0000     1.500000     1.000000     3.000000   \n",
              "75%      1615.250000     1.0000     2.200000     1.000000     7.000000   \n",
              "max      1998.000000     1.0000     3.000000     1.000000    19.000000   \n",
              "\n",
              "            four_g   int_memory        m_dep    mobile_wt      n_cores  ...  \\\n",
              "count  2000.000000  2000.000000  2000.000000  2000.000000  2000.000000  ...   \n",
              "mean      0.521500    32.046500     0.501750   140.249000     4.520500  ...   \n",
              "std       0.499662    18.145715     0.288416    35.399655     2.287837  ...   \n",
              "min       0.000000     2.000000     0.100000    80.000000     1.000000  ...   \n",
              "25%       0.000000    16.000000     0.200000   109.000000     3.000000  ...   \n",
              "50%       1.000000    32.000000     0.500000   141.000000     4.000000  ...   \n",
              "75%       1.000000    48.000000     0.800000   170.000000     7.000000  ...   \n",
              "max       1.000000    64.000000     1.000000   200.000000     8.000000  ...   \n",
              "\n",
              "         px_height     px_width          ram         sc_h         sc_w  \\\n",
              "count  2000.000000  2000.000000  2000.000000  2000.000000  2000.000000   \n",
              "mean    645.108000  1251.515500  2124.213000    12.306500     5.767000   \n",
              "std     443.780811   432.199447  1084.732044     4.213245     4.356398   \n",
              "min       0.000000   500.000000   256.000000     5.000000     0.000000   \n",
              "25%     282.750000   874.750000  1207.500000     9.000000     2.000000   \n",
              "50%     564.000000  1247.000000  2146.500000    12.000000     5.000000   \n",
              "75%     947.250000  1633.000000  3064.500000    16.000000     9.000000   \n",
              "max    1960.000000  1998.000000  3998.000000    19.000000    18.000000   \n",
              "\n",
              "         talk_time      three_g  touch_screen         wifi  price_range  \n",
              "count  2000.000000  2000.000000   2000.000000  2000.000000  2000.000000  \n",
              "mean     11.011000     0.761500      0.503000     0.507000     1.500000  \n",
              "std       5.463955     0.426273      0.500116     0.500076     1.118314  \n",
              "min       2.000000     0.000000      0.000000     0.000000     0.000000  \n",
              "25%       6.000000     1.000000      0.000000     0.000000     0.750000  \n",
              "50%      11.000000     1.000000      1.000000     1.000000     1.500000  \n",
              "75%      16.000000     1.000000      1.000000     1.000000     2.250000  \n",
              "max      20.000000     1.000000      1.000000     1.000000     3.000000  \n",
              "\n",
              "[8 rows x 21 columns]"
            ],
            "text/html": [
              "\n",
              "  <div id=\"df-48b6f922-cdc5-4cfa-900f-963432da4b8b\">\n",
              "    <div class=\"colab-df-container\">\n",
              "      <div>\n",
              "<style scoped>\n",
              "    .dataframe tbody tr th:only-of-type {\n",
              "        vertical-align: middle;\n",
              "    }\n",
              "\n",
              "    .dataframe tbody tr th {\n",
              "        vertical-align: top;\n",
              "    }\n",
              "\n",
              "    .dataframe thead th {\n",
              "        text-align: right;\n",
              "    }\n",
              "</style>\n",
              "<table border=\"1\" class=\"dataframe\">\n",
              "  <thead>\n",
              "    <tr style=\"text-align: right;\">\n",
              "      <th></th>\n",
              "      <th>battery_power</th>\n",
              "      <th>blue</th>\n",
              "      <th>clock_speed</th>\n",
              "      <th>dual_sim</th>\n",
              "      <th>fc</th>\n",
              "      <th>four_g</th>\n",
              "      <th>int_memory</th>\n",
              "      <th>m_dep</th>\n",
              "      <th>mobile_wt</th>\n",
              "      <th>n_cores</th>\n",
              "      <th>...</th>\n",
              "      <th>px_height</th>\n",
              "      <th>px_width</th>\n",
              "      <th>ram</th>\n",
              "      <th>sc_h</th>\n",
              "      <th>sc_w</th>\n",
              "      <th>talk_time</th>\n",
              "      <th>three_g</th>\n",
              "      <th>touch_screen</th>\n",
              "      <th>wifi</th>\n",
              "      <th>price_range</th>\n",
              "    </tr>\n",
              "  </thead>\n",
              "  <tbody>\n",
              "    <tr>\n",
              "      <th>count</th>\n",
              "      <td>2000.000000</td>\n",
              "      <td>2000.0000</td>\n",
              "      <td>2000.000000</td>\n",
              "      <td>2000.000000</td>\n",
              "      <td>2000.000000</td>\n",
              "      <td>2000.000000</td>\n",
              "      <td>2000.000000</td>\n",
              "      <td>2000.000000</td>\n",
              "      <td>2000.000000</td>\n",
              "      <td>2000.000000</td>\n",
              "      <td>...</td>\n",
              "      <td>2000.000000</td>\n",
              "      <td>2000.000000</td>\n",
              "      <td>2000.000000</td>\n",
              "      <td>2000.000000</td>\n",
              "      <td>2000.000000</td>\n",
              "      <td>2000.000000</td>\n",
              "      <td>2000.000000</td>\n",
              "      <td>2000.000000</td>\n",
              "      <td>2000.000000</td>\n",
              "      <td>2000.000000</td>\n",
              "    </tr>\n",
              "    <tr>\n",
              "      <th>mean</th>\n",
              "      <td>1238.518500</td>\n",
              "      <td>0.4950</td>\n",
              "      <td>1.522250</td>\n",
              "      <td>0.509500</td>\n",
              "      <td>4.309500</td>\n",
              "      <td>0.521500</td>\n",
              "      <td>32.046500</td>\n",
              "      <td>0.501750</td>\n",
              "      <td>140.249000</td>\n",
              "      <td>4.520500</td>\n",
              "      <td>...</td>\n",
              "      <td>645.108000</td>\n",
              "      <td>1251.515500</td>\n",
              "      <td>2124.213000</td>\n",
              "      <td>12.306500</td>\n",
              "      <td>5.767000</td>\n",
              "      <td>11.011000</td>\n",
              "      <td>0.761500</td>\n",
              "      <td>0.503000</td>\n",
              "      <td>0.507000</td>\n",
              "      <td>1.500000</td>\n",
              "    </tr>\n",
              "    <tr>\n",
              "      <th>std</th>\n",
              "      <td>439.418206</td>\n",
              "      <td>0.5001</td>\n",
              "      <td>0.816004</td>\n",
              "      <td>0.500035</td>\n",
              "      <td>4.341444</td>\n",
              "      <td>0.499662</td>\n",
              "      <td>18.145715</td>\n",
              "      <td>0.288416</td>\n",
              "      <td>35.399655</td>\n",
              "      <td>2.287837</td>\n",
              "      <td>...</td>\n",
              "      <td>443.780811</td>\n",
              "      <td>432.199447</td>\n",
              "      <td>1084.732044</td>\n",
              "      <td>4.213245</td>\n",
              "      <td>4.356398</td>\n",
              "      <td>5.463955</td>\n",
              "      <td>0.426273</td>\n",
              "      <td>0.500116</td>\n",
              "      <td>0.500076</td>\n",
              "      <td>1.118314</td>\n",
              "    </tr>\n",
              "    <tr>\n",
              "      <th>min</th>\n",
              "      <td>501.000000</td>\n",
              "      <td>0.0000</td>\n",
              "      <td>0.500000</td>\n",
              "      <td>0.000000</td>\n",
              "      <td>0.000000</td>\n",
              "      <td>0.000000</td>\n",
              "      <td>2.000000</td>\n",
              "      <td>0.100000</td>\n",
              "      <td>80.000000</td>\n",
              "      <td>1.000000</td>\n",
              "      <td>...</td>\n",
              "      <td>0.000000</td>\n",
              "      <td>500.000000</td>\n",
              "      <td>256.000000</td>\n",
              "      <td>5.000000</td>\n",
              "      <td>0.000000</td>\n",
              "      <td>2.000000</td>\n",
              "      <td>0.000000</td>\n",
              "      <td>0.000000</td>\n",
              "      <td>0.000000</td>\n",
              "      <td>0.000000</td>\n",
              "    </tr>\n",
              "    <tr>\n",
              "      <th>25%</th>\n",
              "      <td>851.750000</td>\n",
              "      <td>0.0000</td>\n",
              "      <td>0.700000</td>\n",
              "      <td>0.000000</td>\n",
              "      <td>1.000000</td>\n",
              "      <td>0.000000</td>\n",
              "      <td>16.000000</td>\n",
              "      <td>0.200000</td>\n",
              "      <td>109.000000</td>\n",
              "      <td>3.000000</td>\n",
              "      <td>...</td>\n",
              "      <td>282.750000</td>\n",
              "      <td>874.750000</td>\n",
              "      <td>1207.500000</td>\n",
              "      <td>9.000000</td>\n",
              "      <td>2.000000</td>\n",
              "      <td>6.000000</td>\n",
              "      <td>1.000000</td>\n",
              "      <td>0.000000</td>\n",
              "      <td>0.000000</td>\n",
              "      <td>0.750000</td>\n",
              "    </tr>\n",
              "    <tr>\n",
              "      <th>50%</th>\n",
              "      <td>1226.000000</td>\n",
              "      <td>0.0000</td>\n",
              "      <td>1.500000</td>\n",
              "      <td>1.000000</td>\n",
              "      <td>3.000000</td>\n",
              "      <td>1.000000</td>\n",
              "      <td>32.000000</td>\n",
              "      <td>0.500000</td>\n",
              "      <td>141.000000</td>\n",
              "      <td>4.000000</td>\n",
              "      <td>...</td>\n",
              "      <td>564.000000</td>\n",
              "      <td>1247.000000</td>\n",
              "      <td>2146.500000</td>\n",
              "      <td>12.000000</td>\n",
              "      <td>5.000000</td>\n",
              "      <td>11.000000</td>\n",
              "      <td>1.000000</td>\n",
              "      <td>1.000000</td>\n",
              "      <td>1.000000</td>\n",
              "      <td>1.500000</td>\n",
              "    </tr>\n",
              "    <tr>\n",
              "      <th>75%</th>\n",
              "      <td>1615.250000</td>\n",
              "      <td>1.0000</td>\n",
              "      <td>2.200000</td>\n",
              "      <td>1.000000</td>\n",
              "      <td>7.000000</td>\n",
              "      <td>1.000000</td>\n",
              "      <td>48.000000</td>\n",
              "      <td>0.800000</td>\n",
              "      <td>170.000000</td>\n",
              "      <td>7.000000</td>\n",
              "      <td>...</td>\n",
              "      <td>947.250000</td>\n",
              "      <td>1633.000000</td>\n",
              "      <td>3064.500000</td>\n",
              "      <td>16.000000</td>\n",
              "      <td>9.000000</td>\n",
              "      <td>16.000000</td>\n",
              "      <td>1.000000</td>\n",
              "      <td>1.000000</td>\n",
              "      <td>1.000000</td>\n",
              "      <td>2.250000</td>\n",
              "    </tr>\n",
              "    <tr>\n",
              "      <th>max</th>\n",
              "      <td>1998.000000</td>\n",
              "      <td>1.0000</td>\n",
              "      <td>3.000000</td>\n",
              "      <td>1.000000</td>\n",
              "      <td>19.000000</td>\n",
              "      <td>1.000000</td>\n",
              "      <td>64.000000</td>\n",
              "      <td>1.000000</td>\n",
              "      <td>200.000000</td>\n",
              "      <td>8.000000</td>\n",
              "      <td>...</td>\n",
              "      <td>1960.000000</td>\n",
              "      <td>1998.000000</td>\n",
              "      <td>3998.000000</td>\n",
              "      <td>19.000000</td>\n",
              "      <td>18.000000</td>\n",
              "      <td>20.000000</td>\n",
              "      <td>1.000000</td>\n",
              "      <td>1.000000</td>\n",
              "      <td>1.000000</td>\n",
              "      <td>3.000000</td>\n",
              "    </tr>\n",
              "  </tbody>\n",
              "</table>\n",
              "<p>8 rows × 21 columns</p>\n",
              "</div>\n",
              "      <button class=\"colab-df-convert\" onclick=\"convertToInteractive('df-48b6f922-cdc5-4cfa-900f-963432da4b8b')\"\n",
              "              title=\"Convert this dataframe to an interactive table.\"\n",
              "              style=\"display:none;\">\n",
              "        \n",
              "  <svg xmlns=\"http://www.w3.org/2000/svg\" height=\"24px\"viewBox=\"0 0 24 24\"\n",
              "       width=\"24px\">\n",
              "    <path d=\"M0 0h24v24H0V0z\" fill=\"none\"/>\n",
              "    <path d=\"M18.56 5.44l.94 2.06.94-2.06 2.06-.94-2.06-.94-.94-2.06-.94 2.06-2.06.94zm-11 1L8.5 8.5l.94-2.06 2.06-.94-2.06-.94L8.5 2.5l-.94 2.06-2.06.94zm10 10l.94 2.06.94-2.06 2.06-.94-2.06-.94-.94-2.06-.94 2.06-2.06.94z\"/><path d=\"M17.41 7.96l-1.37-1.37c-.4-.4-.92-.59-1.43-.59-.52 0-1.04.2-1.43.59L10.3 9.45l-7.72 7.72c-.78.78-.78 2.05 0 2.83L4 21.41c.39.39.9.59 1.41.59.51 0 1.02-.2 1.41-.59l7.78-7.78 2.81-2.81c.8-.78.8-2.07 0-2.86zM5.41 20L4 18.59l7.72-7.72 1.47 1.35L5.41 20z\"/>\n",
              "  </svg>\n",
              "      </button>\n",
              "      \n",
              "  <style>\n",
              "    .colab-df-container {\n",
              "      display:flex;\n",
              "      flex-wrap:wrap;\n",
              "      gap: 12px;\n",
              "    }\n",
              "\n",
              "    .colab-df-convert {\n",
              "      background-color: #E8F0FE;\n",
              "      border: none;\n",
              "      border-radius: 50%;\n",
              "      cursor: pointer;\n",
              "      display: none;\n",
              "      fill: #1967D2;\n",
              "      height: 32px;\n",
              "      padding: 0 0 0 0;\n",
              "      width: 32px;\n",
              "    }\n",
              "\n",
              "    .colab-df-convert:hover {\n",
              "      background-color: #E2EBFA;\n",
              "      box-shadow: 0px 1px 2px rgba(60, 64, 67, 0.3), 0px 1px 3px 1px rgba(60, 64, 67, 0.15);\n",
              "      fill: #174EA6;\n",
              "    }\n",
              "\n",
              "    [theme=dark] .colab-df-convert {\n",
              "      background-color: #3B4455;\n",
              "      fill: #D2E3FC;\n",
              "    }\n",
              "\n",
              "    [theme=dark] .colab-df-convert:hover {\n",
              "      background-color: #434B5C;\n",
              "      box-shadow: 0px 1px 3px 1px rgba(0, 0, 0, 0.15);\n",
              "      filter: drop-shadow(0px 1px 2px rgba(0, 0, 0, 0.3));\n",
              "      fill: #FFFFFF;\n",
              "    }\n",
              "  </style>\n",
              "\n",
              "      <script>\n",
              "        const buttonEl =\n",
              "          document.querySelector('#df-48b6f922-cdc5-4cfa-900f-963432da4b8b button.colab-df-convert');\n",
              "        buttonEl.style.display =\n",
              "          google.colab.kernel.accessAllowed ? 'block' : 'none';\n",
              "\n",
              "        async function convertToInteractive(key) {\n",
              "          const element = document.querySelector('#df-48b6f922-cdc5-4cfa-900f-963432da4b8b');\n",
              "          const dataTable =\n",
              "            await google.colab.kernel.invokeFunction('convertToInteractive',\n",
              "                                                     [key], {});\n",
              "          if (!dataTable) return;\n",
              "\n",
              "          const docLinkHtml = 'Like what you see? Visit the ' +\n",
              "            '<a target=\"_blank\" href=https://colab.research.google.com/notebooks/data_table.ipynb>data table notebook</a>'\n",
              "            + ' to learn more about interactive tables.';\n",
              "          element.innerHTML = '';\n",
              "          dataTable['output_type'] = 'display_data';\n",
              "          await google.colab.output.renderOutput(dataTable, element);\n",
              "          const docLink = document.createElement('div');\n",
              "          docLink.innerHTML = docLinkHtml;\n",
              "          element.appendChild(docLink);\n",
              "        }\n",
              "      </script>\n",
              "    </div>\n",
              "  </div>\n",
              "  "
            ]
          },
          "metadata": {},
          "execution_count": 20
        }
      ]
    },
    {
      "cell_type": "code",
      "source": [
        "x=data.iloc[:,:20].values\n",
        "y=data.iloc[:,20:21].values"
      ],
      "metadata": {
        "id": "CC66D3we3edx"
      },
      "execution_count": 21,
      "outputs": []
    },
    {
      "cell_type": "code",
      "source": [
        "x"
      ],
      "metadata": {
        "id": "hclluB2z3osr",
        "outputId": "aa0af04c-d21f-49a1-de27-3509cd1c5eb0",
        "colab": {
          "base_uri": "https://localhost:8080/",
          "height": 0
        }
      },
      "execution_count": 22,
      "outputs": [
        {
          "output_type": "execute_result",
          "data": {
            "text/plain": [
              "array([[8.420e+02, 0.000e+00, 2.200e+00, ..., 0.000e+00, 0.000e+00,\n",
              "        1.000e+00],\n",
              "       [1.021e+03, 1.000e+00, 5.000e-01, ..., 1.000e+00, 1.000e+00,\n",
              "        0.000e+00],\n",
              "       [5.630e+02, 1.000e+00, 5.000e-01, ..., 1.000e+00, 1.000e+00,\n",
              "        0.000e+00],\n",
              "       ...,\n",
              "       [1.911e+03, 0.000e+00, 9.000e-01, ..., 1.000e+00, 1.000e+00,\n",
              "        0.000e+00],\n",
              "       [1.512e+03, 0.000e+00, 9.000e-01, ..., 1.000e+00, 1.000e+00,\n",
              "        1.000e+00],\n",
              "       [5.100e+02, 1.000e+00, 2.000e+00, ..., 1.000e+00, 1.000e+00,\n",
              "        1.000e+00]])"
            ]
          },
          "metadata": {},
          "execution_count": 22
        }
      ]
    },
    {
      "cell_type": "code",
      "source": [
        "y"
      ],
      "metadata": {
        "id": "4NbmyNqj3uX7",
        "outputId": "6235c414-3e4b-4825-ee06-5f7dadc6be1f",
        "colab": {
          "base_uri": "https://localhost:8080/",
          "height": 0
        }
      },
      "execution_count": 23,
      "outputs": [
        {
          "output_type": "execute_result",
          "data": {
            "text/plain": [
              "array([[1],\n",
              "       [2],\n",
              "       [2],\n",
              "       ...,\n",
              "       [3],\n",
              "       [0],\n",
              "       [3]])"
            ]
          },
          "metadata": {},
          "execution_count": 23
        }
      ]
    },
    {
      "cell_type": "code",
      "source": [
        "#handling the features for NN model\n",
        "sc=StandardScaler()\n",
        "X=sc.fit_transform(x)"
      ],
      "metadata": {
        "id": "fYPqPJhJ4Bm3"
      },
      "execution_count": 24,
      "outputs": []
    },
    {
      "cell_type": "code",
      "source": [
        "#handling the label\n",
        "ohe=OneHotEncoder()\n",
        "Y=ohe.fit_transform(y).toarray()"
      ],
      "metadata": {
        "id": "qIA0sQ-l4Ops"
      },
      "execution_count": 25,
      "outputs": []
    },
    {
      "cell_type": "code",
      "source": [
        "print(y)"
      ],
      "metadata": {
        "id": "yvJa7EsF4e5j",
        "outputId": "f9f42cf3-5262-4b7c-ca74-76ff4a8075f8",
        "colab": {
          "base_uri": "https://localhost:8080/",
          "height": 0
        }
      },
      "execution_count": 26,
      "outputs": [
        {
          "output_type": "stream",
          "name": "stdout",
          "text": [
            "[[1]\n",
            " [2]\n",
            " [2]\n",
            " ...\n",
            " [3]\n",
            " [0]\n",
            " [3]]\n"
          ]
        }
      ]
    },
    {
      "cell_type": "code",
      "source": [
        "X_train,X_test,Y_train,Y_test=train_test_split(X,Y,test_size=0.1,random_state=10)"
      ],
      "metadata": {
        "id": "9I0fXRnB4gQp"
      },
      "execution_count": 27,
      "outputs": []
    },
    {
      "cell_type": "code",
      "source": [
        "model=Sequential()\n",
        "model.add(Dense(units=32,\n",
        "                activation='relu',\n",
        "                use_bias=True,\n",
        "                kernel_initializer='glorot_uniform',\n",
        "                bias_initializer='zeros',\n",
        "                kernel_regularizer=None,\n",
        "                bias_regularizer=None,\n",
        "                activity_regularizer=None,\n",
        "                kernel_constraint=None,\n",
        "                bias_constraint=None,\n",
        "                input_dim=20))\n",
        "model.add(Dense(units=64,\n",
        "                activation='relu',\n",
        "                use_bias=True,\n",
        "                kernel_initializer='glorot_uniform',\n",
        "                bias_initializer='zeros',\n",
        "                kernel_regularizer=None,\n",
        "                bias_regularizer=None,\n",
        "                activity_regularizer=None,\n",
        "                kernel_constraint=None,\n",
        "                bias_constraint=None))\n",
        "model.add(Dense(units=64,\n",
        "                activation='relu',\n",
        "                use_bias=True,\n",
        "                kernel_initializer='glorot_uniform',\n",
        "                bias_initializer='zeros',\n",
        "                kernel_regularizer=None,\n",
        "                bias_regularizer=None,\n",
        "                activity_regularizer=None,\n",
        "                kernel_constraint=None,\n",
        "                bias_constraint=None))\n",
        "model.add(Dense(units=32,\n",
        "                activation='relu',\n",
        "                use_bias=True,\n",
        "                kernel_initializer='glorot_uniform',\n",
        "                bias_initializer='zeros',\n",
        "                kernel_regularizer=None,\n",
        "                bias_regularizer=None,\n",
        "                activity_regularizer=None,\n",
        "                kernel_constraint=None,\n",
        "                bias_constraint=None))\n",
        "model.add(Dense(units=4,\n",
        "                activation='relu',\n",
        "                use_bias=True,\n",
        "                kernel_initializer='glorot_uniform',\n",
        "                bias_initializer='zeros',\n",
        "                kernel_regularizer=None,\n",
        "                bias_regularizer=None,\n",
        "                activity_regularizer=None,\n",
        "                kernel_constraint=None,\n",
        "                bias_constraint=None))"
      ],
      "metadata": {
        "id": "N5bvgAtE4rzK"
      },
      "execution_count": 33,
      "outputs": []
    },
    {
      "cell_type": "code",
      "source": [
        "type(model)"
      ],
      "metadata": {
        "id": "VdBG3ExL6bfr",
        "outputId": "9961fd48-5df2-4ac8-bbe9-84e7c989a29e",
        "colab": {
          "base_uri": "https://localhost:8080/",
          "height": 0
        }
      },
      "execution_count": 34,
      "outputs": [
        {
          "output_type": "execute_result",
          "data": {
            "text/plain": [
              "keras.engine.sequential.Sequential"
            ]
          },
          "metadata": {},
          "execution_count": 34
        }
      ]
    },
    {
      "cell_type": "code",
      "source": [
        "model.compile(optimizer=\"adam\",loss=\"categorical_crossentropy\",metrics=[\"accuracy\"],loss_weights=None,weighted_metrics=None,run_eagerly=None)"
      ],
      "metadata": {
        "id": "N9hkV5nH63dI"
      },
      "execution_count": 35,
      "outputs": []
    },
    {
      "cell_type": "code",
      "source": [
        "history=model.fit(X_train,Y_train,epochs=100,batch_size=64)"
      ],
      "metadata": {
        "id": "a1zE3sSH7MBz",
        "outputId": "863def95-0853-4a85-8aef-224e243e5fbe",
        "colab": {
          "base_uri": "https://localhost:8080/",
          "height": 0
        }
      },
      "execution_count": 36,
      "outputs": [
        {
          "output_type": "stream",
          "name": "stdout",
          "text": [
            "Epoch 1/100\n",
            "29/29 [==============================] - 7s 4ms/step - loss: 2.8774 - accuracy: 0.2744\n",
            "Epoch 2/100\n",
            "29/29 [==============================] - 0s 4ms/step - loss: 1.2904 - accuracy: 0.3711\n",
            "Epoch 3/100\n",
            "29/29 [==============================] - 0s 4ms/step - loss: 1.1367 - accuracy: 0.4828\n",
            "Epoch 4/100\n",
            "29/29 [==============================] - 0s 4ms/step - loss: 1.0740 - accuracy: 0.5494\n",
            "Epoch 5/100\n",
            "29/29 [==============================] - 0s 4ms/step - loss: 0.9172 - accuracy: 0.6244\n",
            "Epoch 6/100\n",
            "29/29 [==============================] - 0s 4ms/step - loss: 0.7703 - accuracy: 0.7111\n",
            "Epoch 7/100\n",
            "29/29 [==============================] - 0s 5ms/step - loss: nan - accuracy: 0.5806\n",
            "Epoch 8/100\n",
            "29/29 [==============================] - 0s 4ms/step - loss: nan - accuracy: 0.2539\n",
            "Epoch 9/100\n",
            "29/29 [==============================] - 0s 4ms/step - loss: nan - accuracy: 0.2539\n",
            "Epoch 10/100\n",
            "29/29 [==============================] - 0s 4ms/step - loss: nan - accuracy: 0.2539\n",
            "Epoch 11/100\n",
            "29/29 [==============================] - 0s 4ms/step - loss: nan - accuracy: 0.2539\n",
            "Epoch 12/100\n",
            "29/29 [==============================] - 0s 4ms/step - loss: nan - accuracy: 0.2539\n",
            "Epoch 13/100\n",
            "29/29 [==============================] - 0s 4ms/step - loss: nan - accuracy: 0.2539\n",
            "Epoch 14/100\n",
            "29/29 [==============================] - 0s 6ms/step - loss: nan - accuracy: 0.2539\n",
            "Epoch 15/100\n",
            "29/29 [==============================] - 0s 5ms/step - loss: nan - accuracy: 0.2539\n",
            "Epoch 16/100\n",
            "29/29 [==============================] - 0s 5ms/step - loss: nan - accuracy: 0.2539\n",
            "Epoch 17/100\n",
            "29/29 [==============================] - 0s 5ms/step - loss: nan - accuracy: 0.2539\n",
            "Epoch 18/100\n",
            "29/29 [==============================] - 0s 6ms/step - loss: nan - accuracy: 0.2539\n",
            "Epoch 19/100\n",
            "29/29 [==============================] - 0s 5ms/step - loss: nan - accuracy: 0.2539\n",
            "Epoch 20/100\n",
            "29/29 [==============================] - 0s 5ms/step - loss: nan - accuracy: 0.2539\n",
            "Epoch 21/100\n",
            "29/29 [==============================] - 0s 6ms/step - loss: nan - accuracy: 0.2539\n",
            "Epoch 22/100\n",
            "29/29 [==============================] - 0s 5ms/step - loss: nan - accuracy: 0.2539\n",
            "Epoch 23/100\n",
            "29/29 [==============================] - 0s 6ms/step - loss: nan - accuracy: 0.2539\n",
            "Epoch 24/100\n",
            "29/29 [==============================] - 0s 6ms/step - loss: nan - accuracy: 0.2539\n",
            "Epoch 25/100\n",
            "29/29 [==============================] - 0s 5ms/step - loss: nan - accuracy: 0.2539\n",
            "Epoch 26/100\n",
            "29/29 [==============================] - 0s 5ms/step - loss: nan - accuracy: 0.2539\n",
            "Epoch 27/100\n",
            "29/29 [==============================] - 0s 5ms/step - loss: nan - accuracy: 0.2539\n",
            "Epoch 28/100\n",
            "29/29 [==============================] - 0s 4ms/step - loss: nan - accuracy: 0.2539\n",
            "Epoch 29/100\n",
            "29/29 [==============================] - 0s 4ms/step - loss: nan - accuracy: 0.2539\n",
            "Epoch 30/100\n",
            "29/29 [==============================] - 0s 4ms/step - loss: nan - accuracy: 0.2539\n",
            "Epoch 31/100\n",
            "29/29 [==============================] - 0s 4ms/step - loss: nan - accuracy: 0.2539\n",
            "Epoch 32/100\n",
            "29/29 [==============================] - 0s 4ms/step - loss: nan - accuracy: 0.2539\n",
            "Epoch 33/100\n",
            "29/29 [==============================] - 0s 4ms/step - loss: nan - accuracy: 0.2539\n",
            "Epoch 34/100\n",
            "29/29 [==============================] - 0s 4ms/step - loss: nan - accuracy: 0.2539\n",
            "Epoch 35/100\n",
            "29/29 [==============================] - 0s 4ms/step - loss: nan - accuracy: 0.2539\n",
            "Epoch 36/100\n",
            "29/29 [==============================] - 0s 4ms/step - loss: nan - accuracy: 0.2539\n",
            "Epoch 37/100\n",
            "29/29 [==============================] - 0s 3ms/step - loss: nan - accuracy: 0.2539\n",
            "Epoch 38/100\n",
            "29/29 [==============================] - 0s 3ms/step - loss: nan - accuracy: 0.2539\n",
            "Epoch 39/100\n",
            "29/29 [==============================] - 0s 3ms/step - loss: nan - accuracy: 0.2539\n",
            "Epoch 40/100\n",
            "29/29 [==============================] - 0s 3ms/step - loss: nan - accuracy: 0.2539\n",
            "Epoch 41/100\n",
            "29/29 [==============================] - 0s 4ms/step - loss: nan - accuracy: 0.2539\n",
            "Epoch 42/100\n",
            "29/29 [==============================] - 0s 4ms/step - loss: nan - accuracy: 0.2539\n",
            "Epoch 43/100\n",
            "29/29 [==============================] - 0s 4ms/step - loss: nan - accuracy: 0.2539\n",
            "Epoch 44/100\n",
            "29/29 [==============================] - 0s 3ms/step - loss: nan - accuracy: 0.2539\n",
            "Epoch 45/100\n",
            "29/29 [==============================] - 0s 4ms/step - loss: nan - accuracy: 0.2539\n",
            "Epoch 46/100\n",
            "29/29 [==============================] - 0s 4ms/step - loss: nan - accuracy: 0.2539\n",
            "Epoch 47/100\n",
            "29/29 [==============================] - 0s 4ms/step - loss: nan - accuracy: 0.2539\n",
            "Epoch 48/100\n",
            "29/29 [==============================] - 0s 4ms/step - loss: nan - accuracy: 0.2539\n",
            "Epoch 49/100\n",
            "29/29 [==============================] - 0s 4ms/step - loss: nan - accuracy: 0.2539\n",
            "Epoch 50/100\n",
            "29/29 [==============================] - 0s 4ms/step - loss: nan - accuracy: 0.2539\n",
            "Epoch 51/100\n",
            "29/29 [==============================] - 0s 4ms/step - loss: nan - accuracy: 0.2539\n",
            "Epoch 52/100\n",
            "29/29 [==============================] - 0s 4ms/step - loss: nan - accuracy: 0.2539\n",
            "Epoch 53/100\n",
            "29/29 [==============================] - 0s 4ms/step - loss: nan - accuracy: 0.2539\n",
            "Epoch 54/100\n",
            "29/29 [==============================] - 0s 4ms/step - loss: nan - accuracy: 0.2539\n",
            "Epoch 55/100\n",
            "29/29 [==============================] - 0s 4ms/step - loss: nan - accuracy: 0.2539\n",
            "Epoch 56/100\n",
            "29/29 [==============================] - 0s 4ms/step - loss: nan - accuracy: 0.2539\n",
            "Epoch 57/100\n",
            "29/29 [==============================] - 0s 4ms/step - loss: nan - accuracy: 0.2539\n",
            "Epoch 58/100\n",
            "29/29 [==============================] - 0s 4ms/step - loss: nan - accuracy: 0.2539\n",
            "Epoch 59/100\n",
            "29/29 [==============================] - 0s 4ms/step - loss: nan - accuracy: 0.2539\n",
            "Epoch 60/100\n",
            "29/29 [==============================] - 0s 3ms/step - loss: nan - accuracy: 0.2539\n",
            "Epoch 61/100\n",
            "29/29 [==============================] - 0s 4ms/step - loss: nan - accuracy: 0.2539\n",
            "Epoch 62/100\n",
            "29/29 [==============================] - 0s 4ms/step - loss: nan - accuracy: 0.2539\n",
            "Epoch 63/100\n",
            "29/29 [==============================] - 0s 3ms/step - loss: nan - accuracy: 0.2539\n",
            "Epoch 64/100\n",
            "29/29 [==============================] - 0s 4ms/step - loss: nan - accuracy: 0.2539\n",
            "Epoch 65/100\n",
            "29/29 [==============================] - 0s 4ms/step - loss: nan - accuracy: 0.2539\n",
            "Epoch 66/100\n",
            "29/29 [==============================] - 0s 4ms/step - loss: nan - accuracy: 0.2539\n",
            "Epoch 67/100\n",
            "29/29 [==============================] - 0s 4ms/step - loss: nan - accuracy: 0.2539\n",
            "Epoch 68/100\n",
            "29/29 [==============================] - 0s 4ms/step - loss: nan - accuracy: 0.2539\n",
            "Epoch 69/100\n",
            "29/29 [==============================] - 0s 4ms/step - loss: nan - accuracy: 0.2539\n",
            "Epoch 70/100\n",
            "29/29 [==============================] - 0s 4ms/step - loss: nan - accuracy: 0.2539\n",
            "Epoch 71/100\n",
            "29/29 [==============================] - 0s 4ms/step - loss: nan - accuracy: 0.2539\n",
            "Epoch 72/100\n",
            "29/29 [==============================] - 0s 4ms/step - loss: nan - accuracy: 0.2539\n",
            "Epoch 73/100\n",
            "29/29 [==============================] - 0s 3ms/step - loss: nan - accuracy: 0.2539\n",
            "Epoch 74/100\n",
            "29/29 [==============================] - 0s 3ms/step - loss: nan - accuracy: 0.2539\n",
            "Epoch 75/100\n",
            "29/29 [==============================] - 0s 4ms/step - loss: nan - accuracy: 0.2539\n",
            "Epoch 76/100\n",
            "29/29 [==============================] - 0s 5ms/step - loss: nan - accuracy: 0.2539\n",
            "Epoch 77/100\n",
            "29/29 [==============================] - 0s 5ms/step - loss: nan - accuracy: 0.2539\n",
            "Epoch 78/100\n",
            "29/29 [==============================] - 0s 5ms/step - loss: nan - accuracy: 0.2539\n",
            "Epoch 79/100\n",
            "29/29 [==============================] - 0s 5ms/step - loss: nan - accuracy: 0.2539\n",
            "Epoch 80/100\n",
            "29/29 [==============================] - 0s 5ms/step - loss: nan - accuracy: 0.2539\n",
            "Epoch 81/100\n",
            "29/29 [==============================] - 0s 5ms/step - loss: nan - accuracy: 0.2539\n",
            "Epoch 82/100\n",
            "29/29 [==============================] - 0s 6ms/step - loss: nan - accuracy: 0.2539\n",
            "Epoch 83/100\n",
            "29/29 [==============================] - 0s 6ms/step - loss: nan - accuracy: 0.2539\n",
            "Epoch 84/100\n",
            "29/29 [==============================] - 0s 6ms/step - loss: nan - accuracy: 0.2539\n",
            "Epoch 85/100\n",
            "29/29 [==============================] - 0s 5ms/step - loss: nan - accuracy: 0.2539\n",
            "Epoch 86/100\n",
            "29/29 [==============================] - 0s 6ms/step - loss: nan - accuracy: 0.2539\n",
            "Epoch 87/100\n",
            "29/29 [==============================] - 0s 5ms/step - loss: nan - accuracy: 0.2539\n",
            "Epoch 88/100\n",
            "29/29 [==============================] - 0s 6ms/step - loss: nan - accuracy: 0.2539\n",
            "Epoch 89/100\n",
            "29/29 [==============================] - 0s 5ms/step - loss: nan - accuracy: 0.2539\n",
            "Epoch 90/100\n",
            "29/29 [==============================] - 0s 4ms/step - loss: nan - accuracy: 0.2539\n",
            "Epoch 91/100\n",
            "29/29 [==============================] - 0s 4ms/step - loss: nan - accuracy: 0.2539\n",
            "Epoch 92/100\n",
            "29/29 [==============================] - 0s 4ms/step - loss: nan - accuracy: 0.2539\n",
            "Epoch 93/100\n",
            "29/29 [==============================] - 0s 4ms/step - loss: nan - accuracy: 0.2539\n",
            "Epoch 94/100\n",
            "29/29 [==============================] - 0s 4ms/step - loss: nan - accuracy: 0.2539\n",
            "Epoch 95/100\n",
            "29/29 [==============================] - 0s 5ms/step - loss: nan - accuracy: 0.2539\n",
            "Epoch 96/100\n",
            "29/29 [==============================] - 0s 4ms/step - loss: nan - accuracy: 0.2539\n",
            "Epoch 97/100\n",
            "29/29 [==============================] - 0s 4ms/step - loss: nan - accuracy: 0.2539\n",
            "Epoch 98/100\n",
            "29/29 [==============================] - 0s 4ms/step - loss: nan - accuracy: 0.2539\n",
            "Epoch 99/100\n",
            "29/29 [==============================] - 0s 4ms/step - loss: nan - accuracy: 0.2539\n",
            "Epoch 100/100\n",
            "29/29 [==============================] - 0s 4ms/step - loss: nan - accuracy: 0.2539\n"
          ]
        }
      ]
    },
    {
      "cell_type": "code",
      "source": [
        "y_pred=model.predict(X_test)"
      ],
      "metadata": {
        "id": "Et7eNFjL7TsU",
        "outputId": "57d26286-047f-4752-f8e0-5b4163f7ef9a",
        "colab": {
          "base_uri": "https://localhost:8080/",
          "height": 0
        }
      },
      "execution_count": 37,
      "outputs": [
        {
          "output_type": "stream",
          "name": "stdout",
          "text": [
            "7/7 [==============================] - 0s 3ms/step\n"
          ]
        }
      ]
    },
    {
      "cell_type": "code",
      "source": [
        "pred=list()\n",
        " \n",
        "for i in range(len(y_pred)):\n",
        "  pred.append(np.argmax(y_pred[i]))"
      ],
      "metadata": {
        "id": "0Jm4XiD070sO"
      },
      "execution_count": 39,
      "outputs": []
    },
    {
      "cell_type": "code",
      "source": [
        "test=list()\n",
        "for i in range(len(Y_test)):\n",
        "  test.append(np.argmax(Y_test[i]))"
      ],
      "metadata": {
        "id": "i9LmRmol8Ed8"
      },
      "execution_count": 41,
      "outputs": []
    },
    {
      "cell_type": "code",
      "source": [
        "from sklearn.metrics import accuracy_score\n",
        "score=accuracy_score(pred,test)\n",
        "print(\"Accuracy of the ANN model is\",score*100,\"%\")"
      ],
      "metadata": {
        "id": "W_BQUCmC8RHh",
        "outputId": "e00cf766-87b5-4207-9504-68d71857623b",
        "colab": {
          "base_uri": "https://localhost:8080/",
          "height": 0
        }
      },
      "execution_count": 43,
      "outputs": [
        {
          "output_type": "stream",
          "name": "stdout",
          "text": [
            "Accuracy of the ANN model is 21.5 %\n"
          ]
        }
      ]
    },
    {
      "cell_type": "code",
      "source": [],
      "metadata": {
        "id": "j6LkNHjc8jjL"
      },
      "execution_count": null,
      "outputs": []
    }
  ]
}